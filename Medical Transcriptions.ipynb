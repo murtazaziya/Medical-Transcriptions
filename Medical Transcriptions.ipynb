{
 "cells": [
  {
   "cell_type": "code",
   "execution_count": 1,
   "metadata": {},
   "outputs": [],
   "source": [
    "import pandas as pd\n",
    "import numpy as np\n",
    "import matplotlib.pyplot as plt\n",
    "import seaborn as sns\n",
    "import string\n",
    "import re\n",
    "from sklearn.feature_extraction.text import TfidfVectorizer\n",
    "from sklearn.decomposition import PCA\n",
    "from sklearn.linear_model import LogisticRegression\n",
    "from sklearn.ensemble import RandomForestClassifier\n",
    "from sklearn.svm import SVC\n",
    "from sklearn.model_selection import train_test_split, cross_validate\n",
    "\n",
    "from sklearn.metrics import confusion_matrix\n",
    "from sklearn.metrics import classification_report\n",
    "from sklearn.manifold import TSNE\n",
    "\n",
    "from nltk.tokenize import word_tokenize\n",
    "from nltk.tokenize import sent_tokenize\n",
    "from nltk.stem import WordNetLemmatizer \n",
    "\n",
    "from imblearn.over_sampling import SMOTE\n",
    "\n",
    "import sys\n",
    "import warnings\n",
    "if not sys.warnoptions:\n",
    "    warnings.simplefilter('ignore')"
   ]
  },
  {
   "cell_type": "code",
   "execution_count": 2,
   "metadata": {},
   "outputs": [],
   "source": [
    "def get_sentence_word_count(text_list):\n",
    "    sent_count = 0\n",
    "    word_count = 0\n",
    "    vocab = {}\n",
    "    for text in text_list:\n",
    "        sentences = sent_tokenize(str(text).lower())\n",
    "        sent_count = sent_count + len(sentences)\n",
    "        for sentence in sentences:\n",
    "            words = word_tokenize(sentence)\n",
    "            for word in words:\n",
    "                if(word in vocab.keys()):\n",
    "                    vocab[word] = vocab[word] + 1\n",
    "                else:\n",
    "                    vocab[word] = 1 \n",
    "    word_count = len(vocab.keys())\n",
    "    return sent_count,word_count"
   ]
  },
  {
   "cell_type": "code",
   "execution_count": 3,
   "metadata": {},
   "outputs": [
    {
     "name": "stdout",
     "output_type": "stream",
     "text": [
      "Index(['Unnamed: 0', 'description', 'medical_specialty', 'sample_name',\n",
      "       'transcription', 'keywords'],\n",
      "      dtype='object')\n"
     ]
    },
    {
     "data": {
      "text/html": [
       "<div>\n",
       "<style scoped>\n",
       "    .dataframe tbody tr th:only-of-type {\n",
       "        vertical-align: middle;\n",
       "    }\n",
       "\n",
       "    .dataframe tbody tr th {\n",
       "        vertical-align: top;\n",
       "    }\n",
       "\n",
       "    .dataframe thead th {\n",
       "        text-align: right;\n",
       "    }\n",
       "</style>\n",
       "<table border=\"1\" class=\"dataframe\">\n",
       "  <thead>\n",
       "    <tr style=\"text-align: right;\">\n",
       "      <th></th>\n",
       "      <th>Unnamed: 0</th>\n",
       "      <th>description</th>\n",
       "      <th>medical_specialty</th>\n",
       "      <th>sample_name</th>\n",
       "      <th>transcription</th>\n",
       "      <th>keywords</th>\n",
       "    </tr>\n",
       "  </thead>\n",
       "  <tbody>\n",
       "    <tr>\n",
       "      <th>0</th>\n",
       "      <td>0</td>\n",
       "      <td>A 23-year-old white female presents with comp...</td>\n",
       "      <td>Allergy / Immunology</td>\n",
       "      <td>Allergic Rhinitis</td>\n",
       "      <td>SUBJECTIVE:,  This 23-year-old white female pr...</td>\n",
       "      <td>allergy / immunology, allergic rhinitis, aller...</td>\n",
       "    </tr>\n",
       "    <tr>\n",
       "      <th>1</th>\n",
       "      <td>1</td>\n",
       "      <td>Consult for laparoscopic gastric bypass.</td>\n",
       "      <td>Bariatrics</td>\n",
       "      <td>Laparoscopic Gastric Bypass Consult - 2</td>\n",
       "      <td>PAST MEDICAL HISTORY:, He has difficulty climb...</td>\n",
       "      <td>bariatrics, laparoscopic gastric bypass, weigh...</td>\n",
       "    </tr>\n",
       "    <tr>\n",
       "      <th>2</th>\n",
       "      <td>2</td>\n",
       "      <td>Consult for laparoscopic gastric bypass.</td>\n",
       "      <td>Bariatrics</td>\n",
       "      <td>Laparoscopic Gastric Bypass Consult - 1</td>\n",
       "      <td>HISTORY OF PRESENT ILLNESS: , I have seen ABC ...</td>\n",
       "      <td>bariatrics, laparoscopic gastric bypass, heart...</td>\n",
       "    </tr>\n",
       "    <tr>\n",
       "      <th>3</th>\n",
       "      <td>3</td>\n",
       "      <td>2-D M-Mode. Doppler.</td>\n",
       "      <td>Cardiovascular / Pulmonary</td>\n",
       "      <td>2-D Echocardiogram - 1</td>\n",
       "      <td>2-D M-MODE: , ,1.  Left atrial enlargement wit...</td>\n",
       "      <td>cardiovascular / pulmonary, 2-d m-mode, dopple...</td>\n",
       "    </tr>\n",
       "    <tr>\n",
       "      <th>4</th>\n",
       "      <td>4</td>\n",
       "      <td>2-D Echocardiogram</td>\n",
       "      <td>Cardiovascular / Pulmonary</td>\n",
       "      <td>2-D Echocardiogram - 2</td>\n",
       "      <td>1.  The left ventricular cavity size and wall ...</td>\n",
       "      <td>cardiovascular / pulmonary, 2-d, doppler, echo...</td>\n",
       "    </tr>\n",
       "  </tbody>\n",
       "</table>\n",
       "</div>"
      ],
      "text/plain": [
       "   Unnamed: 0                                        description  \\\n",
       "0           0   A 23-year-old white female presents with comp...   \n",
       "1           1           Consult for laparoscopic gastric bypass.   \n",
       "2           2           Consult for laparoscopic gastric bypass.   \n",
       "3           3                             2-D M-Mode. Doppler.     \n",
       "4           4                                 2-D Echocardiogram   \n",
       "\n",
       "             medical_specialty                                sample_name  \\\n",
       "0         Allergy / Immunology                         Allergic Rhinitis    \n",
       "1                   Bariatrics   Laparoscopic Gastric Bypass Consult - 2    \n",
       "2                   Bariatrics   Laparoscopic Gastric Bypass Consult - 1    \n",
       "3   Cardiovascular / Pulmonary                    2-D Echocardiogram - 1    \n",
       "4   Cardiovascular / Pulmonary                    2-D Echocardiogram - 2    \n",
       "\n",
       "                                       transcription  \\\n",
       "0  SUBJECTIVE:,  This 23-year-old white female pr...   \n",
       "1  PAST MEDICAL HISTORY:, He has difficulty climb...   \n",
       "2  HISTORY OF PRESENT ILLNESS: , I have seen ABC ...   \n",
       "3  2-D M-MODE: , ,1.  Left atrial enlargement wit...   \n",
       "4  1.  The left ventricular cavity size and wall ...   \n",
       "\n",
       "                                            keywords  \n",
       "0  allergy / immunology, allergic rhinitis, aller...  \n",
       "1  bariatrics, laparoscopic gastric bypass, weigh...  \n",
       "2  bariatrics, laparoscopic gastric bypass, heart...  \n",
       "3  cardiovascular / pulmonary, 2-d m-mode, dopple...  \n",
       "4  cardiovascular / pulmonary, 2-d, doppler, echo...  "
      ]
     },
     "execution_count": 3,
     "metadata": {},
     "output_type": "execute_result"
    }
   ],
   "source": [
    "df = pd.read_csv(\"mtsamples.csv\")\n",
    "\n",
    "print(df.columns)\n",
    "df.head(5)"
   ]
  },
  {
   "cell_type": "code",
   "execution_count": 4,
   "metadata": {},
   "outputs": [
    {
     "name": "stdout",
     "output_type": "stream",
     "text": [
      "Number of sentences in transcriptions column: 140214\n",
      "Number of unique words in transcriptions column: 35805\n",
      "\t\tOriginal Categories\n",
      "No of categories:  40\n",
      " Allergy / Immunology : 7\n",
      " Autopsy : 8\n",
      " Bariatrics : 18\n",
      " Cardiovascular / Pulmonary : 371\n",
      " Chiropractic : 14\n",
      " Consult - History and Phy. : 516\n",
      " Cosmetic / Plastic Surgery : 27\n",
      " Dentistry : 27\n",
      " Dermatology : 29\n",
      " Diets and Nutritions : 10\n",
      " Discharge Summary : 108\n",
      " ENT - Otolaryngology : 96\n",
      " Emergency Room Reports : 75\n",
      " Endocrinology : 19\n",
      " Gastroenterology : 224\n",
      " General Medicine : 259\n",
      " Hematology - Oncology : 90\n",
      " Hospice - Palliative Care : 6\n",
      " IME-QME-Work Comp etc. : 16\n",
      " Lab Medicine - Pathology : 8\n",
      " Letters : 23\n",
      " Nephrology : 81\n",
      " Neurology : 223\n",
      " Neurosurgery : 94\n",
      " Obstetrics / Gynecology : 155\n",
      " Office Notes : 50\n",
      " Ophthalmology : 83\n",
      " Orthopedic : 355\n",
      " Pain Management : 61\n",
      " Pediatrics - Neonatal : 70\n",
      " Physical Medicine - Rehab : 21\n",
      " Podiatry : 47\n",
      " Psychiatry / Psychology : 53\n",
      " Radiology : 273\n",
      " Rheumatology : 10\n",
      " SOAP / Chart / Progress Notes : 166\n",
      " Sleep Medicine : 20\n",
      " Speech - Language : 9\n",
      " Surgery : 1088\n",
      " Urology : 156\n"
     ]
    }
   ],
   "source": [
    "df = df[df['transcription'].notna()]\n",
    "sent_count,word_count = get_sentence_word_count(df['transcription'].tolist())\n",
    "print(\"Number of sentences in transcriptions column: \" + str(sent_count))\n",
    "print(\"Number of unique words in transcriptions column: \" + str(word_count))\n",
    "\n",
    "\n",
    "\n",
    "data_categories  = df.groupby(df['medical_specialty'])\n",
    "i = 1\n",
    "print('\\t\\tOriginal Categories')\n",
    "print('No of categories: ', len(data_categories))\n",
    "for cat_name, data_category in data_categories:\n",
    "    print(cat_name + ' : ' + str(len(data_category)) )\n",
    "    i += 1"
   ]
  },
  {
   "cell_type": "code",
   "execution_count": 6,
   "metadata": {},
   "outputs": [
    {
     "name": "stdout",
     "output_type": "stream",
     "text": [
      "\t\tReduced Categories\n",
      "No of categories:  40\n",
      " Allergy / Immunology : 7\n",
      " Autopsy : 8\n",
      " Bariatrics : 18\n",
      " Cardiovascular / Pulmonary : 371\n",
      " Chiropractic : 14\n",
      " Consult - History and Phy. : 516\n",
      " Cosmetic / Plastic Surgery : 27\n",
      " Dentistry : 27\n",
      " Dermatology : 29\n",
      " Diets and Nutritions : 10\n",
      " Discharge Summary : 108\n",
      " ENT - Otolaryngology : 96\n",
      " Emergency Room Reports : 75\n",
      " Endocrinology : 19\n",
      " Gastroenterology : 224\n",
      " General Medicine : 259\n",
      " Hematology - Oncology : 90\n",
      " Hospice - Palliative Care : 6\n",
      " IME-QME-Work Comp etc. : 16\n",
      " Lab Medicine - Pathology : 8\n",
      " Letters : 23\n",
      " Nephrology : 81\n",
      " Neurology : 223\n",
      " Neurosurgery : 94\n",
      " Obstetrics / Gynecology : 155\n",
      " Office Notes : 50\n",
      " Ophthalmology : 83\n",
      " Orthopedic : 355\n",
      " Pain Management : 61\n",
      " Pediatrics - Neonatal : 70\n",
      " Physical Medicine - Rehab : 21\n",
      " Podiatry : 47\n",
      " Psychiatry / Psychology : 53\n",
      " Radiology : 273\n",
      " Rheumatology : 10\n",
      " SOAP / Chart / Progress Notes : 166\n",
      " Sleep Medicine : 20\n",
      " Speech - Language : 9\n",
      " Surgery : 1088\n",
      " Urology : 156\n"
     ]
    }
   ],
   "source": [
    "filtered_data_categories = data_categories.filter(lambda x: x.shape[0] > 50)\n",
    "final_data_categories = filtered_data_categories.groupby(filtered_data_categories['medical_specialty'])\n",
    "print('\\t\\tReduced Categories')\n",
    "print('No of categories: ', len(data_categories))\n",
    "for cat_name, data_category in data_categories:\n",
    "    print(cat_name + ' : ' + str(len(data_category)) )"
   ]
  },
  {
   "cell_type": "code",
   "execution_count": 7,
   "metadata": {},
   "outputs": [
    {
     "data": {
      "text/plain": [
       "(4597, 2)"
      ]
     },
     "execution_count": 7,
     "metadata": {},
     "output_type": "execute_result"
    }
   ],
   "source": [
    "data = filtered_data_categories[['transcription', 'medical_specialty']]\n",
    "data = data.drop(data[data['transcription'].isna()].index)\n",
    "data.shape"
   ]
  },
  {
   "cell_type": "code",
   "execution_count": 8,
   "metadata": {},
   "outputs": [],
   "source": [
    "def clean_text(text ): \n",
    "    text = text.translate(str.maketrans('', '', string.punctuation))\n",
    "    text1 = ''.join([w for w in text if not w.isdigit()]) \n",
    "    #REPLACE_BY_SPACE_RE = re.compile('[/(){}\\[\\]\\|@,;]')\n",
    "    BAD_SYMBOLS_RE = re.compile('[^0-9a-z #+_]')\n",
    "    \n",
    "    text2 = text1.lower()\n",
    "    #text2 = REPLACE_BY_SPACE_RE.sub('', text2) # replace REPLACE_BY_SPACE_RE symbols by space in text\n",
    "    text2 = BAD_SYMBOLS_RE.sub('', text2)\n",
    "    return text2\n",
    "\n",
    "def lemmatize_text(text):\n",
    "    wordlist = []\n",
    "    lemmatizer = WordNetLemmatizer() \n",
    "    sentences = sent_tokenize(text)\n",
    "    \n",
    "    intial_sentences = sentences[0:1]\n",
    "    final_sentences = sentences[len(sentences)-2: len(sentences)-1]\n",
    "    \n",
    "    for sentence in intial_sentences:\n",
    "        words = word_tokenize(sentence)\n",
    "        for word in words:\n",
    "            wordlist.append(lemmatizer.lemmatize(word))\n",
    "    for sentence in final_sentences:\n",
    "        words = word_tokenize(sentence)\n",
    "        for word in words:\n",
    "            wordlist.append(lemmatizer.lemmatize(word))       \n",
    "    return ' '.join(wordlist)"
   ]
  },
  {
   "cell_type": "code",
   "execution_count": 9,
   "metadata": {},
   "outputs": [],
   "source": [
    "data['transcription'] = data['transcription'].apply(lemmatize_text)\n",
    "data['transcription'] = data['transcription'].apply(clean_text)"
   ]
  },
  {
   "cell_type": "code",
   "execution_count": 10,
   "metadata": {},
   "outputs": [
    {
     "data": {
      "text/html": [
       "<div>\n",
       "<style scoped>\n",
       "    .dataframe tbody tr th:only-of-type {\n",
       "        vertical-align: middle;\n",
       "    }\n",
       "\n",
       "    .dataframe tbody tr th {\n",
       "        vertical-align: top;\n",
       "    }\n",
       "\n",
       "    .dataframe thead th {\n",
       "        text-align: right;\n",
       "    }\n",
       "</style>\n",
       "<table border=\"1\" class=\"dataframe\">\n",
       "  <thead>\n",
       "    <tr style=\"text-align: right;\">\n",
       "      <th></th>\n",
       "      <th>transcription</th>\n",
       "      <th>medical_specialty</th>\n",
       "    </tr>\n",
       "  </thead>\n",
       "  <tbody>\n",
       "    <tr>\n",
       "      <th>3</th>\n",
       "      <td>d mmode     mild mitral and tricuspid regurgit...</td>\n",
       "      <td>Cardiovascular / Pulmonary</td>\n",
       "    </tr>\n",
       "    <tr>\n",
       "      <th>4</th>\n",
       "      <td>there is a color doppler suggestive of a pat...</td>\n",
       "      <td>Cardiovascular / Pulmonary</td>\n",
       "    </tr>\n",
       "    <tr>\n",
       "      <th>7</th>\n",
       "      <td>d echocardiogram  multiple view of the heart a...</td>\n",
       "      <td>Cardiovascular / Pulmonary</td>\n",
       "    </tr>\n",
       "    <tr>\n",
       "      <th>9</th>\n",
       "      <td>description    normal lv systolic function</td>\n",
       "      <td>Cardiovascular / Pulmonary</td>\n",
       "    </tr>\n",
       "    <tr>\n",
       "      <th>11</th>\n",
       "      <td>d study  moderate biatrial enlargement</td>\n",
       "      <td>Cardiovascular / Pulmonary</td>\n",
       "    </tr>\n",
       "  </tbody>\n",
       "</table>\n",
       "</div>"
      ],
      "text/plain": [
       "                                        transcription  \\\n",
       "3   d mmode     mild mitral and tricuspid regurgit...   \n",
       "4     there is a color doppler suggestive of a pat...   \n",
       "7   d echocardiogram  multiple view of the heart a...   \n",
       "9         description    normal lv systolic function    \n",
       "11            d study  moderate biatrial enlargement    \n",
       "\n",
       "              medical_specialty  \n",
       "3    Cardiovascular / Pulmonary  \n",
       "4    Cardiovascular / Pulmonary  \n",
       "7    Cardiovascular / Pulmonary  \n",
       "9    Cardiovascular / Pulmonary  \n",
       "11   Cardiovascular / Pulmonary  "
      ]
     },
     "execution_count": 10,
     "metadata": {},
     "output_type": "execute_result"
    }
   ],
   "source": [
    "data.head()"
   ]
  },
  {
   "cell_type": "code",
   "execution_count": 11,
   "metadata": {},
   "outputs": [
    {
     "data": {
      "text/plain": [
       "'description    normal lv systolic function '"
      ]
     },
     "execution_count": 11,
     "metadata": {},
     "output_type": "execute_result"
    }
   ],
   "source": [
    "data.iloc[3]['transcription']"
   ]
  },
  {
   "cell_type": "code",
   "execution_count": 12,
   "metadata": {},
   "outputs": [
    {
     "data": {
      "text/plain": [
       "['abc', 'abcd', 'abdomen', 'abdomen pelvis', 'abdominal']"
      ]
     },
     "execution_count": 12,
     "metadata": {},
     "output_type": "execute_result"
    }
   ],
   "source": [
    "vectorizer = TfidfVectorizer(analyzer = 'word', stop_words = 'english', ngram_range = (1, 3),\n",
    "                             max_df = 0.75, use_idf = True, smooth_idf = True, max_features = 1000)\n",
    "tfIdfMat  = vectorizer.fit_transform(data['transcription'].tolist() )\n",
    "feature_names = sorted(vectorizer.get_feature_names())\n",
    "feature_names[:5]"
   ]
  },
  {
   "cell_type": "code",
   "execution_count": 13,
   "metadata": {},
   "outputs": [],
   "source": [
    "mask_list = ['Surgery', 'SOAP / Chart / Progress Notes', 'Office Notes', ' Consult - History and Phy.',\n",
    "             'Emergency Room Reports', 'Discharge Summary', 'Pediatrics - Neonatal', 'Pain Management',\n",
    "             'General Medicine', 'Neurosurgery']\n",
    "filtered_data_categories['medical_specialty'] = filtered_data_categories['medical_specialty'].apply(lambda x: str.strip(x))\n",
    "for i in mask_list:\n",
    "    if i != 'Neurosurgery':\n",
    "        mask = filtered_data_categories['medical_specialty'] == i\n",
    "        filtered_data_categories = filtered_data_categories[~mask]\n",
    "    else:\n",
    "        mask = filtered_data_categories['medical_specialty'] == 'Neurosurgery'\n",
    "        filtered_data_categories.loc[mask, 'medical_specialty'] = 'Neurology'\n",
    "        \n",
    "final_data_categories = filtered_data_categories.groupby(filtered_data_categories['medical_specialty'])"
   ]
  },
  {
   "cell_type": "code",
   "execution_count": 14,
   "metadata": {},
   "outputs": [
    {
     "name": "stdout",
     "output_type": "stream",
     "text": [
      "\t\tReduced Categories\n",
      "No of categories:  40\n",
      " Allergy / Immunology : 7\n",
      " Autopsy : 8\n",
      " Bariatrics : 18\n",
      " Cardiovascular / Pulmonary : 371\n",
      " Chiropractic : 14\n",
      " Consult - History and Phy. : 516\n",
      " Cosmetic / Plastic Surgery : 27\n",
      " Dentistry : 27\n",
      " Dermatology : 29\n",
      " Diets and Nutritions : 10\n",
      " Discharge Summary : 108\n",
      " ENT - Otolaryngology : 96\n",
      " Emergency Room Reports : 75\n",
      " Endocrinology : 19\n",
      " Gastroenterology : 224\n",
      " General Medicine : 259\n",
      " Hematology - Oncology : 90\n",
      " Hospice - Palliative Care : 6\n",
      " IME-QME-Work Comp etc. : 16\n",
      " Lab Medicine - Pathology : 8\n",
      " Letters : 23\n",
      " Nephrology : 81\n",
      " Neurology : 223\n",
      " Neurosurgery : 94\n",
      " Obstetrics / Gynecology : 155\n",
      " Office Notes : 50\n",
      " Ophthalmology : 83\n",
      " Orthopedic : 355\n",
      " Pain Management : 61\n",
      " Pediatrics - Neonatal : 70\n",
      " Physical Medicine - Rehab : 21\n",
      " Podiatry : 47\n",
      " Psychiatry / Psychology : 53\n",
      " Radiology : 273\n",
      " Rheumatology : 10\n",
      " SOAP / Chart / Progress Notes : 166\n",
      " Sleep Medicine : 20\n",
      " Speech - Language : 9\n",
      " Surgery : 1088\n",
      " Urology : 156\n"
     ]
    },
    {
     "data": {
      "text/plain": [
       "(2770, 2)"
      ]
     },
     "execution_count": 14,
     "metadata": {},
     "output_type": "execute_result"
    }
   ],
   "source": [
    "'''\n",
    "filtered_data_categories['medical_specialty'] = filtered_data_categories['medical_specialty'].apply(lambda x: str.strip(x))\n",
    "mask = filtered_data_categories['medical_specialty'] == 'Surgery'\n",
    "filtered_data_categories = filtered_data_categories[~mask]\n",
    "final_data_categories = filtered_data_categories.groupby(filtered_data_categories['medical_specialty'])\n",
    "mask = filtered_data_categories['medical_specialty'] == 'SOAP / Chart / Progress Notes'\n",
    "filtered_data_categories = filtered_data_categories[~mask]\n",
    "mask = filtered_data_categories['medical_specialty'] == 'Office Notes'\n",
    "filtered_data_categories = filtered_data_categories[~mask]\n",
    "mask = filtered_data_categories['medical_specialty'] == 'Consult - History and Phy.'\n",
    "filtered_data_categories = filtered_data_categories[~mask]\n",
    "mask = filtered_data_categories['medical_specialty'] == 'Emergency Room Reports'\n",
    "filtered_data_categories = filtered_data_categories[~mask]\n",
    "mask = filtered_data_categories['medical_specialty'] == 'Discharge Summary'\n",
    "filtered_data_categories = filtered_data_categories[~mask]\n",
    "mask = filtered_data_categories['medical_specialty'] == 'Pediatrics - Neonatal'\n",
    "filtered_data_categories = filtered_data_categories[~mask]\n",
    "mask = filtered_data_categories['medical_specialty'] == 'Pain Management'\n",
    "filtered_data_categories = filtered_data_categories[~mask]\n",
    "mask = filtered_data_categories['medical_specialty'] == 'General Medicine'\n",
    "filtered_data_categories = filtered_data_categories[~mask]\n",
    "mask = filtered_data_categories['medical_specialty'] == 'Neurosurgery'\n",
    "filtered_data_categories.loc[mask, 'medical_specialty'] = 'Neurology'\n",
    "mask = filtered_data_categories['medical_specialty'] == 'Nephrology'\n",
    "filtered_data_categories.loc[mask, 'medical_specialty'] = 'Urology'\n",
    "'''\n",
    "\n",
    "\n",
    "print('\\t\\tReduced Categories')\n",
    "print('No of categories: ', len(data_categories))\n",
    "for cat_name, data_category in data_categories:\n",
    "    print(cat_name + ' : ' + str(len(data_category)) )\n",
    "    \n",
    "data = filtered_data_categories[['transcription', 'medical_specialty']]\n",
    "data = data.drop(data[data['transcription'].isna()].index)\n",
    "data.shape"
   ]
  },
  {
   "cell_type": "code",
   "execution_count": 15,
   "metadata": {},
   "outputs": [],
   "source": [
    "import spacy\n",
    "import en_ner_bionlp13cg_md\n",
    "nlp = en_ner_bionlp13cg_md.load()"
   ]
  },
  {
   "cell_type": "code",
   "execution_count": 16,
   "metadata": {},
   "outputs": [],
   "source": [
    "def process_Text( text):\n",
    "    wordlist = []\n",
    "    doc = nlp(text)\n",
    "    for ent in doc.ents:\n",
    "        wordlist.append(ent.text)\n",
    "    return ' '.join(wordlist)"
   ]
  },
  {
   "cell_type": "code",
   "execution_count": 17,
   "metadata": {},
   "outputs": [],
   "source": [
    "data['transcription'] = data['transcription'].apply(process_Text)\n",
    "data['transcription'] = data['transcription'].apply(lemmatize_text)\n",
    "data['transcription'] = data['transcription'].apply(clean_text)"
   ]
  },
  {
   "cell_type": "code",
   "execution_count": 18,
   "metadata": {},
   "outputs": [
    {
     "name": "stdout",
     "output_type": "stream",
     "text": [
      "['abc', 'abdomen', 'abdomen abdomen', 'abdomen bowel', 'abdomen edema', 'abdomen pelvis', 'abdominal', 'abdominal cavity', 'abdominal patient', 'abdominal wall', 'ace', 'acetabulum', 'acid', 'acute', 'adenocarcinoma', 'adenoid', 'adenoma', 'adenopathy', 'adenosine', 'adnexal', 'adrenal', 'adrenal gland', 'afebrile', 'ago', 'air', 'airway', 'albumin', 'albuterol', 'alcohol', 'alcohol patient', 'alcohol use', 'allergies', 'allergies allergies', 'allergies medications', 'allergies social', 'allograft', 'alt', 'ancef', 'anemia', 'anesthesia', 'anesthesia endotracheal', 'anesthesia general', 'anesthesia patient', 'aneurysm', 'annular', 'anterior', 'anterior abdominal', 'anterior abdominal wall', 'anterior cervical', 'anterior chamber', 'anterior cruciate', 'anterior cruciate ligament', 'anterior posterior', 'anteriorly', 'antrum', 'aorta', 'aortic', 'aortic valve', 'ap', 'ap lateral', 'apical', 'arch', 'area', 'arm', 'arterial', 'artery', 'artery artery', 'artery carotid', 'artery carotid artery', 'artery coronary', 'artery coronary artery', 'artery disease', 'artery patient', 'artery pulmonary', 'artery pulmonary artery', 'artery vessel', 'articular', 'aspirin', 'assessment', 'assessment patient', 'ast', 'ast alt', 'atrial', 'atrium', 'auscultation', 'axilla', 'axillary', 'axis', 'bacitracin', 'bag', 'basilar', 'bed', 'beta', 'betadine', 'bicarbonate', 'biceps', 'bid', 'bilaterally', 'bile', 'biliary', 'bilirubin', 'biopsy', 'biopsy patient', 'bladder', 'bladder bladder', 'bladder neck', 'bladder patient', 'bladder tumor', 'ble', 'bleed', 'blood', 'blood blood', 'blood cell', 'blood heart', 'blood patient', 'blood sugar', 'bloody', 'blunt', 'bluntly', 'bmp', 'body', 'bone', 'bone bone', 'bone graft', 'bone marrow', 'bowel', 'bowel bladder', 'bowel edema', 'bowel patient', 'boy', 'bp', 'bp hr', 'brachial', 'brain', 'brain tumor', 'breast', 'breast cancer', 'breath', 'brief', 'brief patient', 'bronchus', 'brother', 'bruits', 'bue', 'bun', 'bun creatinine', 'bun creatinine glucose', 'bursa', 'cad', 'calcium', 'calf', 'caliber', 'canal', 'cancer', 'cancer patient', 'cannula', 'capillary', 'capsular', 'capsular bag', 'capsule', 'carcinoma', 'cardiac', 'cardiac patient', 'cardioplegia', 'cardiopulmonary', 'cardiovascular', 'cardiovascular heart', 'carotid', 'carotid artery', 'carotid artery carotid', 'carotid bruits', 'carpal', 'cartilage', 'cat', 'catheter', 'caudal', 'cava', 'cavity', 'cbc', 'cc', 'cc cc', 'cecum', 'cell', 'cell carcinoma', 'cell hemoglobin', 'cement', 'central', 'central canal', 'cephalic', 'cephalic vein', 'cerebellar', 'cerebellum', 'cerebral', 'cervical', 'cervical cc', 'cervical cervical', 'cervical patient', 'cervical spine', 'cervix', 'chamber', 'changes', 'chart', 'chest', 'chest patient', 'chest tube', 'chest wall', 'child', 'children', 'chill', 'chill sweat', 'chloride', 'cholesterol', 'circumferential', 'circumflex', 'clear', 'clinical', 'clot', 'cn', 'cns', 'cocaine', 'collateral', 'colon', 'colon cancer', 'colon colon', 'complications', 'condition', 'condyle', 'conjunctiva', 'contrast', 'coord', 'copd', 'cord', 'cord cord', 'cornea', 'corneal', 'coronary', 'coronary artery', 'coronary artery coronary', 'coronary artery disease', 'cortex', 'cortical', 'coumadin', 'course', 'cranial', 'cranial nerve', 'crease', 'creatinine', 'creatinine glucose', 'crp', 'cruciate', 'cruciate ligament', 'crystalloid', 'csf', 'cspine', 'ct', 'culdesac', 'culture', 'current', 'cyst', 'cystic', 'cystic duct', 'daily', 'day', 'decadron', 'deltoid', 'demerol', 'description', 'description patient', 'description patient patient', 'diagnoses', 'diagnostic', 'diaphragm', 'digitorum', 'discharge', 'disease', 'disposition', 'dph', 'dr', 'dr dr', 'dr patient', 'dr patient patient', 'drains', 'duct', 'duodenum', 'dura', 'dysphagia', 'ear', 'ear canal', 'ear ear', 'edema', 'edge', 'ef', 'effusion', 'emg', 'endocrine', 'endometrial', 'endotracheal', 'endotracheal tube', 'endplate', 'epidural', 'epinephrine', 'er', 'erythema', 'esophageal', 'esophagus', 'estimated', 'eustachian', 'evaluation', 'exam', 'exam bp', 'examination', 'examination general', 'examination vital', 'examination vital blood', 'extensor', 'extra', 'extraocular', 'extremities', 'extremities edema', 'extremity', 'extremity extremity', 'extremity patient', 'exudate', 'eye', 'eye eye', 'eye patient', 'eyelid', 'eyes', 'face', 'facial', 'failure', 'fallopian', 'fallopian tube', 'family', 'family patient', 'fascia', 'fascia fascia', 'fascia skin', 'fascial', 'fat', 'female', 'female patient', 'female patient patient', 'femoral', 'femoral artery', 'femur', 'fentanyl', 'fetal', 'fetal heart', 'fhx', 'fiber', 'fibroid', 'findings', 'findings patient', 'flank', 'flap', 'flexor', 'fluid', 'fluids', 'focal', 'foot', 'foot foot', 'foramen', 'foreskin', 'fossa', 'french', 'frontal', 'function', 'fundus', 'gadolinium', 'gag', 'gait', 'gallbladder', 'ganglion', 'gastric', 'gastroesophageal', 'gastrointestinal', 'gen', 'general', 'general patient', 'genitalia', 'genitourinary', 'gentleman', 'gi', 'gland', 'glans', 'glaucoma', 'glenoid', 'glucose', 'graft', 'graft graft', 'groin', 'gs', 'gu', 'guidewire', 'gut', 'ha', 'hallucis', 'hand', 'head', 'head neck', 'heart', 'heart blood', 'heart coronary', 'heart heart', 'heart patient', 'heent', 'hematoma', 'hemoglobin', 'hemoglobin platelet', 'heparin', 'hepatic', 'hepatitis', 'hepatosplenomegaly', 'hernia', 'hiatal', 'highgrade', 'history', 'history patient', 'history patient female', 'history patient patient', 'history patient yearold', 'history yearold', 'hiv', 'home', 'hospital', 'hospital patient', 'hr', 'humerus', 'hx', 'hx yo', 'hypertension', 'hypertrophy', 'ii', 'ileum', 'iliac', 'iliac artery', 'impression', 'impression patient', 'incision', 'indication', 'indication patient', 'indications', 'indications patient', 'infant', 'inguinal', 'inner', 'inr', 'insufficiency', 'insulin', 'intact', 'intercostal', 'intervertebral', 'intraarticular', 'intracardiac', 'intracranial', 'intraocular', 'intrauterine', 'intravenous', 'intravenously', 'iron', 'iv', 'jaw', 'joint', 'joint joint', 'jugular', 'jugular venous', 'kidney', 'knee', 'laboratory', 'labrum', 'lad', 'lady', 'lamina', 'laryngeal', 'larynx', 'lasix', 'lateral', 'layer', 'layer skin', 'left', 'left ventricular', 'leg', 'lens', 'lesion', 'lesions', 'leukemia', 'levaquin', 'level', 'lidocaine', 'lidocaine epinephrine', 'ligament', 'light', 'limb', 'limbus', 'line', 'lip', 'lipitor', 'lisinopril', 'liver', 'liver spleen', 'll', 'lobe', 'longitudinal', 'longus', 'longus tendon', 'lowgrade', 'ls', 'lumbar', 'lumbosacral', 'lumen', 'lung', 'lung cancer', 'lungs', 'lv', 'lymph', 'lymph node', 'lymphadenopathy', 'lymphocyte', 'lymphoma', 'malignancy', 'mammary', 'man', 'marcaine', 'marcaine epinephrine', 'marginal', 'marrow', 'mass', 'masses', 'mastoid', 'material', 'maxillary', 'meal', 'meatus', 'medial', 'medial lateral', 'medical', 'medication', 'medications', 'meds', 'membrane', 'meniscus', 'mental', 'mesothelioma', 'metatarsal', 'metatarsal head', 'metatarsophalangeal', 'metatarsophalangeal joint', 'metoprolol', 'mg', 'mg po', 'midline', 'minimal', 'mitral', 'mitral valve', 'ml', 'mm', 'morphine', 'motor', 'mouth', 'mr', 'mri', 'ms', 'mucosa', 'mucous', 'multivitamin', 'murmur', 'murmur abdomen', 'muscle', 'muscle muscle', 'muscular', 'musculature', 'musculoskeletal', 'myocardial', 'nasal', 'nasal septum', 'nasopharynx', 'neck', 'needle', 'needle patient', 'negative', 'neoplasm', 'nerve', 'nerve root', 'neural', 'neural foramen', 'neurologic', 'neurological', 'neurovascular', 'neutrophil', 'nipple', 'nitroglycerin', 'node', 'nodule', 'noncontributory', 'normal', 'nose', 'noted', 'npo', 'nuclear', 'nucleus', 'nucleus pulposus', 'nucleus pulposus cc', 'objective', 'oblique', 'obstruction', 'obtained', 'obtuse', 'omentum', 'operation', 'operative', 'operative patient', 'optic', 'oral', 'organ', 'organomegaly', 'oropharynx', 'osteophyte', 'ostium', 'ou', 'ovarian', 'ovary', 'oxygen', 'pad', 'pain', 'palate', 'pancreas', 'pancreatic', 'pap', 'paraspinal', 'parietal', 'past', 'past patient', 'patella', 'patellar', 'pathology', 'patient abdomen', 'patient abdominal', 'patient alcohol', 'patient alcohol patient', 'patient anesthesia', 'patient anterior', 'patient bed', 'patient biopsy', 'patient bladder', 'patient blood', 'patient blood patient', 'patient bowel', 'patient brain', 'patient cardiac', 'patient chest', 'patient child', 'patient chill', 'patient condition', 'patient coronary', 'patient dr', 'patient dr patient', 'patient ear', 'patient endotracheal', 'patient extremity', 'patient eye', 'patient female', 'patient female patient', 'patient gentleman', 'patient head', 'patient heart', 'patient intravenous', 'patient knee', 'patient leg', 'patient lidocaine', 'patient needle', 'patient oral', 'patient patient', 'patient patient blood', 'patient patient dr', 'patient patient patient', 'patient procedure', 'patient renal', 'patient skin', 'patient spinal', 'patient tobacco', 'patient tube', 'patient urine', 'patient woman', 'patient wound', 'patient yearold', 'pe', 'pectoralis', 'pedicle', 'pelvic', 'pelvis', 'penicillin', 'penis', 'percocet', 'performed', 'pericardial', 'periosteal', 'periosteum', 'peripheral', 'peripheral edema', 'peritoneal', 'peritoneal cavity', 'peritoneum', 'pharynx', 'physical', 'physical blood', 'physical examination', 'physical examination general', 'physical examination vital', 'physical patient', 'pin', 'pituitary', 'placenta', 'plan', 'plan patient', 'plantar', 'platelet', 'platysma', 'plavix', 'pleura', 'pleural', 'pmh', 'po', 'po bid', 'po po', 'po qd', 'polyp', 'portal', 'posterior', 'posterior longitudinal', 'posterolateral', 'postoperative', 'postoperative diagnoses', 'potassium', 'potassium chloride', 'pouch', 'prednisone', 'present', 'prn', 'problems', 'procedure', 'procedure patient', 'procedure patient patient', 'procedure performed', 'procedures', 'proceed', 'pronator', 'prostate', 'prostate cancer', 'prostatic', 'protonix', 'psa', 'psychiatric', 'ptt', 'pubic', 'pulmonary', 'pulmonary artery', 'pulmonary artery pulmonary', 'pulposus', 'pulposus cc', 'pylorus', 'qd', 'qh', 'qhs', 'radial', 'rbc', 'reactive', 'reactive light', 'reason', 'recommendations', 'rectal', 'rectum', 'rectus', 'reflex', 'reflexes', 'renal', 'renal artery', 'renal patient', 'renal pelvis', 'respiratory', 'retinal', 'retractor', 'retroperitoneal', 'review', 'review patient', 'rhythm', 'rib', 'right', 'rle', 'root', 'ros', 'sac', 'saline', 'saphenous', 'saphenous vein', 'scalp', 'scar', 'screw', 'scrotal', 'scrotum', 'secretion', 'seen', 'segment', 'sensory', 'septal', 'septum', 'serum', 'shaft', 'sheath', 'shoulder', 'shx', 'sigmoid', 'sigmoid colon', 'signal', 'sinus', 'skin', 'skin patient', 'skin skin', 'skin subcutaneous', 'skin subcutaneous tissue', 'skin wound', 'skull', 'small', 'smooth', 'social', 'social alcohol', 'social patient', 'social patient alcohol', 'sodium', 'sodium potassium', 'soft', 'soft tissue', 'solid', 'space', 'specimen', 'specimens', 'sphenoid', 'spinal', 'spinal cord', 'spine', 'spinous', 'spleen', 'sputum', 'squamous', 'squamous cell', 'squamous cell carcinoma', 'st', 'stable', 'stem', 'stenosis', 'sternocleidomastoid', 'sternocleidomastoid muscle', 'steroid', 'stomach', 'stone', 'stool', 'stricture', 'structure', 'study', 'subacromial', 'subclavian', 'subclavian vein', 'subcutaneous', 'subcutaneous tissue', 'subcutaneous tissue skin', 'subcuticular', 'subscapularis', 'sugar', 'superficial', 'supraclavicular', 'suprapubic', 'surface', 'surgery', 'surgical', 'suture', 'sweat', 'symptoms', 'syncope', 'syndrome', 'synthroid', 'systems', 'systolic', 'tablet', 'tear', 'technique', 'teeth', 'tender', 'tenderness', 'tendon', 'tendon reflex', 'tendon sheath', 'tendon tendon', 'testicle', 'testis', 'thecal', 'thecal sac', 'therapy', 'thigh', 'thoracic', 'thoracic spine', 'throat', 'thrombus', 'thyroid', 'tibia', 'tibial', 'tid', 'time', 'tissue', 'tissue patient', 'tissue skin', 'tobacco', 'tobacco alcohol', 'today', 'toe', 'tongue', 'tonsil', 'tonsillar', 'tourniquet', 'trachea', 'tracheal', 'tract', 'treatment', 'tricuspid', 'trocar', 'tsh', 'tube', 'tube ovary', 'tube patient', 'tube tube', 'tumor', 'tumor tumor', 'turbinate', 'tylenol', 'tympanic', 'tympanic membrane', 'type', 'ulcer', 'ulnar', 'ulnar nerve', 'umbilical', 'umbilicus', 'unknown', 'unremarkable', 'unremarkable course', 'upper', 'upper extremity', 'ureter', 'ureteral', 'urethra', 'urethral', 'urinary', 'urinary tract', 'urine', 'urine patient', 'use', 'uterine', 'uterus', 'va', 'vagina', 'vaginal', 'valve', 'valvular', 'vancomycin', 'vascular', 'vascular patient', 'vault', 'vein', 'vein graft', 'vena', 'vena cava', 'venous', 'ventral', 'ventricle', 'ventricular', 'versed', 'vertebral', 'vertebral body', 'vessel', 'vicodin', 'vital', 'vital blood', 'vitamin', 'volar', 'wall', 'water', 'wbc', 'weakness', 'woman', 'wound', 'wound patient', 'wound saline', 'wound skin', 'wound wound', 'xii', 'xylocaine', 'yearold', 'yearold female', 'yearold patient', 'years', 'yo']\n"
     ]
    }
   ],
   "source": [
    "vectorizer = TfidfVectorizer(analyzer = 'word', stop_words = 'english', ngram_range = (1, 3),\n",
    "                             max_df = 0.75, min_df = 5, use_idf = True, smooth_idf = True, sublinear_tf = True,\n",
    "                             max_features = 1000)\n",
    "tfIdfMat  = vectorizer.fit_transform(data['transcription'].tolist() )\n",
    "feature_names = sorted(vectorizer.get_feature_names())\n",
    "print(feature_names)"
   ]
  },
  {
   "cell_type": "code",
   "execution_count": 19,
   "metadata": {},
   "outputs": [],
   "source": [
    "import gc\n",
    "gc.collect()\n",
    "tfIdfMatrix = tfIdfMat.todense()\n",
    "labels = data['medical_specialty'].tolist()\n",
    "tsne_results = TSNE(n_components = 2, init = 'random', random_state = 0, perplexity = 40).fit_transform(tfIdfMatrix)"
   ]
  },
  {
   "cell_type": "code",
   "execution_count": 20,
   "metadata": {},
   "outputs": [],
   "source": [
    "pca = PCA(n_components = 0.95)\n",
    "tfIdfMat_reduced = pca.fit_transform(tfIdfMat.toarray())\n",
    "labels = data['medical_specialty'].tolist()\n",
    "category_list = data.medical_specialty.unique()"
   ]
  },
  {
   "cell_type": "code",
   "execution_count": 21,
   "metadata": {},
   "outputs": [
    {
     "name": "stdout",
     "output_type": "stream",
     "text": [
      "Train_Set_Size:(2424, 619)\n",
      "Test_Set_Size:(809, 619)\n"
     ]
    }
   ],
   "source": [
    "smote_over_sample = SMOTE(sampling_strategy = 'minority')\n",
    "labels = data['medical_specialty'].tolist()\n",
    "X, y = smote_over_sample.fit_resample(tfIdfMat_reduced, labels)\n",
    "\n",
    "X_train, X_test, y_train, y_test = train_test_split(X, y, stratify = y,random_state = 1)   \n",
    "print('Train_Set_Size:' + str(X_train.shape))\n",
    "print('Test_Set_Size:' + str(X_test.shape))"
   ]
  },
  {
   "cell_type": "code",
   "execution_count": 22,
   "metadata": {},
   "outputs": [],
   "source": [
    "models = {'SVC': {'model': SVC()}, 'RandomForestClassifier': {'model': RandomForestClassifier()},\n",
    "          'LogisticRegression': {'model': LogisticRegression()}}"
   ]
  },
  {
   "cell_type": "code",
   "execution_count": 23,
   "metadata": {},
   "outputs": [],
   "source": [
    "for name, m in models.items():\n",
    "    \n",
    "    model = m['model']\n",
    "    result = cross_validate(model, X_train, y_train, cv = 10)\n",
    "    \n",
    "    mean_val_accuracy = round(sum(result['test_score'])/len(result['test_score']), 4)\n",
    "    \n",
    "    m['val_accuracy'] = mean_val_accuracy"
   ]
  },
  {
   "cell_type": "code",
   "execution_count": 24,
   "metadata": {},
   "outputs": [
    {
     "data": {
      "text/html": [
       "<div>\n",
       "<style scoped>\n",
       "    .dataframe tbody tr th:only-of-type {\n",
       "        vertical-align: middle;\n",
       "    }\n",
       "\n",
       "    .dataframe tbody tr th {\n",
       "        vertical-align: top;\n",
       "    }\n",
       "\n",
       "    .dataframe thead th {\n",
       "        text-align: right;\n",
       "    }\n",
       "</style>\n",
       "<table border=\"1\" class=\"dataframe\">\n",
       "  <thead>\n",
       "    <tr style=\"text-align: right;\">\n",
       "      <th></th>\n",
       "      <th>model</th>\n",
       "      <th>val_accuracy</th>\n",
       "    </tr>\n",
       "  </thead>\n",
       "  <tbody>\n",
       "    <tr>\n",
       "      <th>0</th>\n",
       "      <td>LogisticRegression</td>\n",
       "      <td>0.6300</td>\n",
       "    </tr>\n",
       "    <tr>\n",
       "      <th>1</th>\n",
       "      <td>SVC</td>\n",
       "      <td>0.5767</td>\n",
       "    </tr>\n",
       "    <tr>\n",
       "      <th>2</th>\n",
       "      <td>RandomForestClassifier</td>\n",
       "      <td>0.5128</td>\n",
       "    </tr>\n",
       "  </tbody>\n",
       "</table>\n",
       "</div>"
      ],
      "text/plain": [
       "                    model  val_accuracy\n",
       "0      LogisticRegression        0.6300\n",
       "1                     SVC        0.5767\n",
       "2  RandomForestClassifier        0.5128"
      ]
     },
     "execution_count": 24,
     "metadata": {},
     "output_type": "execute_result"
    }
   ],
   "source": [
    "models_result = []\n",
    "\n",
    "for name, v in models.items():\n",
    "    lst = [name, v['val_accuracy']]\n",
    "    models_result.append(lst)\n",
    "\n",
    "df_results = pd.DataFrame(models_result, \n",
    "                          columns = ['model','val_accuracy'])\n",
    "df_results.sort_values(by = 'val_accuracy', ascending = False, inplace = True)\n",
    "df_results.reset_index(inplace = True, drop = True)\n",
    "df_results"
   ]
  },
  {
   "cell_type": "code",
   "execution_count": 25,
   "metadata": {},
   "outputs": [
    {
     "data": {
      "text/plain": [
       "LogisticRegression()"
      ]
     },
     "execution_count": 25,
     "metadata": {},
     "output_type": "execute_result"
    }
   ],
   "source": [
    "best_model = df_results.iloc[0]\n",
    "model = models[best_model[0]]['model']\n",
    "model.fit(X_train, y_train)"
   ]
  },
  {
   "cell_type": "code",
   "execution_count": 26,
   "metadata": {},
   "outputs": [],
   "source": [
    "yhat = model.predict(X_test)"
   ]
  },
  {
   "cell_type": "code",
   "execution_count": 27,
   "metadata": {},
   "outputs": [
    {
     "data": {
      "image/png": "[encoded data removed]",
      "text/plain": [
       "<Figure size 720x720 with 2 Axes>"
      ]
     },
     "metadata": {
      "needs_background": "light"
     },
     "output_type": "display_data"
    },
    {
     "name": "stdout",
     "output_type": "stream",
     "text": [
      "                            precision    recall  f1-score   support\n",
      "\n",
      "Cardiovascular / Pulmonary       0.66      0.66      0.66        93\n",
      "                 Neurology       0.37      0.32      0.34        79\n",
      "                   Urology       0.76      0.67      0.71        39\n",
      "                 Radiology       0.23      0.21      0.22        68\n",
      "   Psychiatry / Psychology       0.77      0.99      0.87       129\n",
      "                Orthopedic       0.65      0.67      0.66        89\n",
      "             Ophthalmology       0.91      0.95      0.93        21\n",
      "   Obstetrics / Gynecology       0.86      0.77      0.81        39\n",
      "                Nephrology       0.67      0.30      0.41        20\n",
      "     Hematology - Oncology       0.50      0.13      0.21        23\n",
      "          Gastroenterology       0.80      0.59      0.68        56\n",
      "      ENT - Otolaryngology       0.81      0.54      0.65        24\n",
      "Consult - History and Phy.       0.51      0.67      0.58       129\n",
      "\n",
      "                  accuracy                           0.62       809\n",
      "                 macro avg       0.66      0.57      0.59       809\n",
      "              weighted avg       0.62      0.62      0.61       809\n",
      "\n"
     ]
    }
   ],
   "source": [
    "labels = category_list\n",
    "cm = confusion_matrix(y_test, yhat, labels)\n",
    "\n",
    "fig = plt.figure(figsize = (10, 10))\n",
    "ax = fig.add_subplot(1, 1, 1)\n",
    "sns.heatmap(cm, annot = True, cmap = \"Blues\", ax = ax, fmt = 'g')\n",
    "\n",
    "ax.set_xlabel('Predicted labels')\n",
    "ax.set_ylabel('True labels') \n",
    "ax.set_title('Confusion Matrix')\n",
    "ax.xaxis.set_ticklabels(labels)\n",
    "ax.yaxis.set_ticklabels(labels)\n",
    "plt.setp(ax.get_yticklabels(), rotation = 30, horizontalalignment = 'right')\n",
    "plt.setp(ax.get_xticklabels(), rotation = 30, horizontalalignment = 'right')     \n",
    "plt.show()\n",
    "print(classification_report(y_test, yhat, labels = category_list))"
   ]
  },
  {
   "cell_type": "code",
   "execution_count": null,
   "metadata": {},
   "outputs": [],
   "source": []
  }
 ],
 "metadata": {
  "kernelspec": {
   "display_name": "Python 3",
   "language": "python",
   "name": "python3"
  },
  "language_info": {
   "codemirror_mode": {
    "name": "ipython",
    "version": 3
   },
   "file_extension": ".py",
   "mimetype": "text/x-python",
   "name": "python",
   "nbconvert_exporter": "python",
   "pygments_lexer": "ipython3",
   "version": "3.8.5"
  }
 },
 "nbformat": 4,
 "nbformat_minor": 4
}
